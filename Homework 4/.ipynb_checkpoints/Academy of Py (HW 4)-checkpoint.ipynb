{
 "cells": [
  {
   "cell_type": "code",
   "execution_count": 3,
   "metadata": {},
   "outputs": [],
   "source": [
    "import pandas as pd\n",
    "import csv\n",
    "\n",
    "#Retrieve files\n",
    "school_data = \"schools_complete.csv\"\n",
    "student_data = \"students_complete.csv\"\n",
    "\n",
    "#Read files\n",
    "school_df = pd.read_csv(school_data, encoding=\"iso-8859-1\", low_memory=False)\n",
    "student_df = pd.read_csv(student_data, encoding=\"iso-8859-1\", low_memory=False)\n"
   ]
  },
  {
   "cell_type": "code",
   "execution_count": 4,
   "metadata": {
    "collapsed": true
   },
   "outputs": [],
   "source": [
    "#District Summary\n",
    "total_schools = school_df[\"School ID\"].count()\n",
    "total_students = student_df[\"Student ID\"].count()\n",
    "total_budget = school_df[\"budget\"].sum()\n",
    "avg_math = round(student_df[\"math_score\"].mean(),2)\n",
    "avg_reading = round(student_df[\"reading_score\"].mean(),2)\n",
    "\n",
    "# % passsing math\n",
    "totalPassingMath = renamed_student_pd.loc[(renamed_student_pd[\"math_score\"] >= 70)][\"Student Name\"].count()\n",
    "percentPassingMath = (totalPassingMath / totalStudents) * 100\n",
    "df[\"% Passing Math\"] = percentPassingMath\n",
    "totalPassingReading = renamed_student_pd[(renamed_student_pd[\"reading_score\"] >= 70)][\"Student Name\"].count()\n",
    "percentPassingReading = (totalPassingReading / totalStudents) * 100\n",
    "\n",
    "df[\"% Passing Reading\"] = totalPassingReading\n",
    "\n",
    "# % passing\n",
    "overallPassingRate = ((totalPassingMath + totalPassingReading) / 2) / totalStudents * 100\n",
    "\n",
    "df[\"% Overall Passing Rate\"] = overallPassingRate\n",
    "df"
   ]
  },
  {
   "cell_type": "code",
   "execution_count": null,
   "metadata": {
    "collapsed": true
   },
   "outputs": [],
   "source": [
    "student_data.columns"
   ]
  },
  {
   "cell_type": "code",
   "execution_count": null,
   "metadata": {
    "collapsed": true
   },
   "outputs": [],
   "source": [
    "# Calculate total number of schools, students, budget\n",
    "total_schools = len(school_id)\n",
    "total_schools\n",
    "\n",
    "total_students = len(size)\n",
    "total_size\n",
    "\n",
    "total_budget = len(budget)\n",
    "total_budget\n"
   ]
  },
  {
   "cell_type": "code",
   "execution_count": null,
   "metadata": {
    "collapsed": true
   },
   "outputs": [],
   "source": [
    "# Calculate avg math score, reading score\n",
    "average_math = student_data[\"math_score\"].mean()\n",
    "print(average_math)\n",
    "\n",
    "average_reading = student_data[\"reading_score\"].mean()\n",
    "print(average_reading)\n",
    "\n"
   ]
  },
  {
   "cell_type": "code",
   "execution_count": null,
   "metadata": {
    "collapsed": true
   },
   "outputs": [],
   "source": [
    "pass_math = student_data.loc(student_data[\"math_score\"] > 70) & \n",
    "                  (student_data[\"student\"] != msg)]\n",
    "pass_math.head()\n",
    "\n",
    "pass_read = student_data.loc(student_data[\"reading_score\"] > 70) & \n",
    "                  (student_data[\"student\"] != msg)]\n",
    "pass_read.head()"
   ]
  },
  {
   "cell_type": "code",
   "execution_count": null,
   "metadata": {
    "collapsed": true
   },
   "outputs": [],
   "source": []
  },
  {
   "cell_type": "code",
   "execution_count": null,
   "metadata": {
    "collapsed": true
   },
   "outputs": [],
   "source": []
  },
  {
   "cell_type": "code",
   "execution_count": null,
   "metadata": {
    "collapsed": true
   },
   "outputs": [],
   "source": []
  },
  {
   "cell_type": "code",
   "execution_count": null,
   "metadata": {
    "collapsed": true
   },
   "outputs": [],
   "source": [
    "school_summary = pd.DataFrame({\"School Name\": [school],\n",
    "                                   \"School Type\": [type],\n",
    "                                   \"Total Students\": [school_id],\n",
    "                                   \"Total School Budget\": [budget],\n",
    "                                   \"Per School Budget\": [budget],\n",
    "                                   \"Average Math Score\":[average_math],\n",
    "                                   \"Average Reading Score\":[average_reading],\n",
    "                                   \"% passing math\": [pass_math],\n",
    "                                   \"% passing reading\": [pass_reading]\n",
    "})\n"
   ]
  }
 ],
 "metadata": {
  "kernelspec": {
   "display_name": "Python 3",
   "language": "python",
   "name": "python3"
  },
  "language_info": {
   "codemirror_mode": {
    "name": "ipython",
    "version": 3
   },
   "file_extension": ".py",
   "mimetype": "text/x-python",
   "name": "python",
   "nbconvert_exporter": "python",
   "pygments_lexer": "ipython3",
   "version": "3.6.1"
  }
 },
 "nbformat": 4,
 "nbformat_minor": 2
}
