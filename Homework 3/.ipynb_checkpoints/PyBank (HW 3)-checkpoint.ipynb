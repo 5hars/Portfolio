{
 "cells": [
  {
   "cell_type": "code",
   "execution_count": null,
   "metadata": {
    "collapsed": true
   },
   "outputs": [],
   "source": []
  },
  {
   "cell_type": "code",
   "execution_count": null,
   "metadata": {
    "collapsed": true
   },
   "outputs": [],
   "source": [
    "Create a new GitHub repo called python-challenge. Then, clone it to your computer.\n",
    "\n",
    "Inside your local git repository, create a directory for 2 of the 4 Python Challenges. Use folder names corresponding to the 2 challenges that you have chosen to complete: PyBank, PyPoll, PyBoss, or PyParagraph.\n",
    "\n",
    "Inside of each folder that you just created, add a new file called main.py. This will be the main script to run for each analysis.\n",
    "\n",
    "Push the above changes to GitHub.\n",
    "\n",
    "\n",
    "The total number of months included in the dataset\n",
    "\n",
    "The total amount of revenue gained over the entire period\n",
    "\n",
    "The average change in revenue between months over the entire period\n",
    "\n",
    "The greatest increase in revenue (date and amount) over the entire period\n",
    "\n",
    "The greatest decrease in revenue (date and amount) over the entire period\n",
    "\n",
    "As an example, your analysis should look similar to the one below:\n",
    "\n",
    "Financial Analysis\n",
    "----------------------------\n",
    "Total Months: 25\n",
    "Total Revenue: $1241412\n",
    "Average Revenue Change: $216825\n",
    "Greatest Increase in Revenue: Sep-16 ($815531)\n",
    "Greatest Decrease in Revenue: Aug-12 ($-652794)\n",
    "Your final script must be able to handle any such similarly structured dataset in the future (your boss is going to give you more of these -- so your script has to work for the ones to come). In addition, your final script should both print the analysis to the terminal and export a text file with the results."
   ]
  }
 ],
 "metadata": {
  "kernelspec": {
   "display_name": "Python 3",
   "language": "python",
   "name": "python3"
  },
  "language_info": {
   "codemirror_mode": {
    "name": "ipython",
    "version": 3
   },
   "file_extension": ".py",
   "mimetype": "text/x-python",
   "name": "python",
   "nbconvert_exporter": "python",
   "pygments_lexer": "ipython3",
   "version": "3.6.1"
  }
 },
 "nbformat": 4,
 "nbformat_minor": 2
}
