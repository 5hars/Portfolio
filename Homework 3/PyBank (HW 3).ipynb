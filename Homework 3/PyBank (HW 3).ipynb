{
 "cells": [
  {
   "cell_type": "code",
   "execution_count": null,
   "metadata": {
    "collapsed": true
   },
   "outputs": [],
   "source": [
    "import os \n",
    "import csv"
   ]
  },
  {
   "cell_type": "code",
   "execution_count": null,
   "metadata": {
    "collapsed": true
   },
   "outputs": [],
   "source": [
    "budget_csv = os.path.join(\"..\", \"..\", \"Resources\", \"budget_data_1.csv\")"
   ]
  },
  {
   "cell_type": "code",
   "execution_count": null,
   "metadata": {
    "collapsed": true
   },
   "outputs": [],
   "source": [
    "# store data\n",
    "total_months = 0\n",
    "total_revenue = 0\n",
    "average_change_revenue = 0\n",
    "greatest_inc_revenue = 0\n",
    "greatest_dec_revenue = 0\n",
    "with open(budget_csv, newline=\"\") as csvfile:\n",
    "    csvreader = csv.reader(csvfile, delimiter=\",\")\n",
    "\n",
    "print(len(date))"
   ]
  },
  {
   "cell_type": "code",
   "execution_count": null,
   "metadata": {
    "collapsed": true
   },
   "outputs": [],
   "source": [
    "# Open and read csv\n",
    "with open(budget_csv, newline=\"\") as csvfile:\n",
    "    csvreader = csv.reader(csvfile, delimiter=\",\")\n",
    "count = 1\n",
    "    # Iterate throught each row\n",
    "for row in csvreader:\n",
    "        print(len(date))\n",
    "        \n",
    "        \n",
    "#The total number of months included in the dataset\n",
    "\n",
    "\n",
    "#The total amount of revenue gained over the entire period\n",
    "\n",
    "#The average change in revenue between months over the entire period\n",
    "\n",
    "#The greatest increase in revenue (date and amount) over the entire period\n",
    "\n",
    "#The greatest decrease in revenue (date and amount) over the entire period\n",
    "\n",
    "\n",
    "print(\"Financial Analysis\")\n",
    "print(----------------------------)\n",
    "print(\"Total Months: \"+ len(date)\n",
    "print(\"Total Revenue: $\" + str(total_revenue))\n",
    "print(\"Average Revenue Change: \"+ str(average_change_revenue)\n",
    "print(\"Greatest Increase in Revenue: \"+ str(greatest_increase_revenue[0])+\" \"+ str(greatest_inc_revenue[1])\n",
    "print(\"Greatest Decrease in Revenue: \"+ str(greatest_dec_revenue[0])+\" \"+ str(greatest_dec_revenue[1])\n"
   ]
  },
  {
   "cell_type": "code",
   "execution_count": null,
   "metadata": {
    "collapsed": true
   },
   "outputs": [],
   "source": []
  }
 ],
 "metadata": {
  "kernelspec": {
   "display_name": "Python 3",
   "language": "python",
   "name": "python3"
  },
  "language_info": {
   "codemirror_mode": {
    "name": "ipython",
    "version": 3
   },
   "file_extension": ".py",
   "mimetype": "text/x-python",
   "name": "python",
   "nbconvert_exporter": "python",
   "pygments_lexer": "ipython3",
   "version": "3.6.1"
  }
 },
 "nbformat": 4,
 "nbformat_minor": 2
}
