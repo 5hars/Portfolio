{
 "cells": [
  {
   "cell_type": "code",
   "execution_count": 2,
   "metadata": {
    "collapsed": true
   },
   "outputs": [],
   "source": [
    "import pandas as pd\n",
    "import requests as req\n",
    "import matplotlib.pyplot as plt\n",
    "import numpy as np\n",
    "import csv \n"
   ]
  },
  {
   "cell_type": "code",
   "execution_count": 13,
   "metadata": {},
   "outputs": [
    {
     "data": {
      "text/html": [
       "<div>\n",
       "<style>\n",
       "    .dataframe thead tr:only-child th {\n",
       "        text-align: right;\n",
       "    }\n",
       "\n",
       "    .dataframe thead th {\n",
       "        text-align: left;\n",
       "    }\n",
       "\n",
       "    .dataframe tbody tr th {\n",
       "        vertical-align: top;\n",
       "    }\n",
       "</style>\n",
       "<table border=\"1\" class=\"dataframe\">\n",
       "  <thead>\n",
       "    <tr style=\"text-align: right;\">\n",
       "      <th></th>\n",
       "      <th>city</th>\n",
       "      <th>date</th>\n",
       "      <th>fare</th>\n",
       "      <th>ride_id</th>\n",
       "      <th>driver_count</th>\n",
       "      <th>type</th>\n",
       "    </tr>\n",
       "  </thead>\n",
       "  <tbody>\n",
       "    <tr>\n",
       "      <th>0</th>\n",
       "      <td>Sarabury</td>\n",
       "      <td>2016-01-16 13:49:27</td>\n",
       "      <td>38.35</td>\n",
       "      <td>5403689035038</td>\n",
       "      <td>46</td>\n",
       "      <td>Urban</td>\n",
       "    </tr>\n",
       "    <tr>\n",
       "      <th>1</th>\n",
       "      <td>Sarabury</td>\n",
       "      <td>2016-07-23 07:42:44</td>\n",
       "      <td>21.76</td>\n",
       "      <td>7546681945283</td>\n",
       "      <td>46</td>\n",
       "      <td>Urban</td>\n",
       "    </tr>\n",
       "    <tr>\n",
       "      <th>2</th>\n",
       "      <td>Sarabury</td>\n",
       "      <td>2016-04-02 04:32:25</td>\n",
       "      <td>38.03</td>\n",
       "      <td>4932495851866</td>\n",
       "      <td>46</td>\n",
       "      <td>Urban</td>\n",
       "    </tr>\n",
       "    <tr>\n",
       "      <th>3</th>\n",
       "      <td>Sarabury</td>\n",
       "      <td>2016-06-23 05:03:41</td>\n",
       "      <td>26.82</td>\n",
       "      <td>6711035373406</td>\n",
       "      <td>46</td>\n",
       "      <td>Urban</td>\n",
       "    </tr>\n",
       "    <tr>\n",
       "      <th>4</th>\n",
       "      <td>Sarabury</td>\n",
       "      <td>2016-09-30 12:48:34</td>\n",
       "      <td>30.30</td>\n",
       "      <td>6388737278232</td>\n",
       "      <td>46</td>\n",
       "      <td>Urban</td>\n",
       "    </tr>\n",
       "    <tr>\n",
       "      <th>5</th>\n",
       "      <td>Sarabury</td>\n",
       "      <td>2016-08-04 00:25:52</td>\n",
       "      <td>27.20</td>\n",
       "      <td>2429366407526</td>\n",
       "      <td>46</td>\n",
       "      <td>Urban</td>\n",
       "    </tr>\n",
       "    <tr>\n",
       "      <th>6</th>\n",
       "      <td>Sarabury</td>\n",
       "      <td>2016-07-25 10:44:01</td>\n",
       "      <td>17.73</td>\n",
       "      <td>4467299640441</td>\n",
       "      <td>46</td>\n",
       "      <td>Urban</td>\n",
       "    </tr>\n",
       "    <tr>\n",
       "      <th>7</th>\n",
       "      <td>Sarabury</td>\n",
       "      <td>2016-06-22 16:24:01</td>\n",
       "      <td>23.94</td>\n",
       "      <td>6153395712431</td>\n",
       "      <td>46</td>\n",
       "      <td>Urban</td>\n",
       "    </tr>\n",
       "    <tr>\n",
       "      <th>8</th>\n",
       "      <td>Sarabury</td>\n",
       "      <td>2016-01-27 17:46:45</td>\n",
       "      <td>16.39</td>\n",
       "      <td>8220809448298</td>\n",
       "      <td>46</td>\n",
       "      <td>Urban</td>\n",
       "    </tr>\n",
       "    <tr>\n",
       "      <th>9</th>\n",
       "      <td>Sarabury</td>\n",
       "      <td>2016-04-26 11:31:30</td>\n",
       "      <td>21.80</td>\n",
       "      <td>5969441875705</td>\n",
       "      <td>46</td>\n",
       "      <td>Urban</td>\n",
       "    </tr>\n",
       "  </tbody>\n",
       "</table>\n",
       "</div>"
      ],
      "text/plain": [
       "       city                 date   fare        ride_id  driver_count   type\n",
       "0  Sarabury  2016-01-16 13:49:27  38.35  5403689035038            46  Urban\n",
       "1  Sarabury  2016-07-23 07:42:44  21.76  7546681945283            46  Urban\n",
       "2  Sarabury  2016-04-02 04:32:25  38.03  4932495851866            46  Urban\n",
       "3  Sarabury  2016-06-23 05:03:41  26.82  6711035373406            46  Urban\n",
       "4  Sarabury  2016-09-30 12:48:34  30.30  6388737278232            46  Urban\n",
       "5  Sarabury  2016-08-04 00:25:52  27.20  2429366407526            46  Urban\n",
       "6  Sarabury  2016-07-25 10:44:01  17.73  4467299640441            46  Urban\n",
       "7  Sarabury  2016-06-22 16:24:01  23.94  6153395712431            46  Urban\n",
       "8  Sarabury  2016-01-27 17:46:45  16.39  8220809448298            46  Urban\n",
       "9  Sarabury  2016-04-26 11:31:30  21.80  5969441875705            46  Urban"
      ]
     },
     "execution_count": 13,
     "metadata": {},
     "output_type": "execute_result"
    }
   ],
   "source": [
    "# Import cities file as DataFrame\n",
    "city_pd = pd.read_csv(\"../Resources/city_data.csv\")\n",
    "ride_pd = pd.read_csv(\"../Resources/ride_data.csv\")\n",
    "merge_data = pd.merge(ride_pd, city_pd, on=\"city\")\n",
    "merge_data.head(10)"
   ]
  },
  {
   "cell_type": "code",
   "execution_count": null,
   "metadata": {},
   "outputs": [],
   "source": [
    "#•\tAverage Fare ($) Per City\n",
    "#•\tTotal Number of Rides Per City\n",
    "#•\tTotal Number of Drivers Per City\n",
    "#•\tCity Type (Urban, Suburban, Rural)\n"
   ]
  },
  {
   "cell_type": "code",
   "execution_count": null,
   "metadata": {
    "collapsed": true
   },
   "outputs": [],
   "source": [
    "#•\t% of Total Fares by City Type\n",
    "#•\t% of Total Rides by City Type\n",
    "#\t% of Total Drivers by City Type\n"
   ]
  },
  {
   "cell_type": "code",
   "execution_count": null,
   "metadata": {
    "collapsed": true
   },
   "outputs": [],
   "source": [
    "o\tYou must stick to the Pyber color scheme (Gold, Light Sky Blue, and Light Coral) in producing your plot and pie charts.\n",
    "o\tWhen making your Bubble Plot, experiment with effects like alpha, edgecolor, and linewidths.\n",
    "o\tWhen making your Pie Chart, experiment with effects like shadow, startangle, and explosion.\n"
   ]
  },
  {
   "cell_type": "code",
   "execution_count": null,
   "metadata": {
    "collapsed": true
   },
   "outputs": [],
   "source": [
    "Plot Titles, Axes Labels, Legend Labels, Wedge Percentages, and Wedge Labels."
   ]
  },
  {
   "cell_type": "code",
   "execution_count": null,
   "metadata": {
    "collapsed": true
   },
   "outputs": [],
   "source": [
    "plt.show()"
   ]
  }
 ],
 "metadata": {
  "kernelspec": {
   "display_name": "Python 3",
   "language": "python",
   "name": "python3"
  },
  "language_info": {
   "codemirror_mode": {
    "name": "ipython",
    "version": 3
   },
   "file_extension": ".py",
   "mimetype": "text/x-python",
   "name": "python",
   "nbconvert_exporter": "python",
   "pygments_lexer": "ipython3",
   "version": "3.6.1"
  }
 },
 "nbformat": 4,
 "nbformat_minor": 2
}
